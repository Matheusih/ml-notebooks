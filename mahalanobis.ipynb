{
 "cells": [
  {
   "cell_type": "code",
   "execution_count": null,
   "metadata": {},
   "outputs": [],
   "source": [
    "import os\n",
    "import time\n",
    "import torch\n",
    "import torch.optim as optim\n",
    "import torch.nn as nn\n",
    "import torchvision\n",
    "import torchvision.datasets as dset\n",
    "import torchvision.transforms as transforms\n",
    "from torchvision.models import alexnet"
   ]
  },
  {
   "cell_type": "code",
   "execution_count": null,
   "metadata": {},
   "outputs": [],
   "source": [
    "model = alexnet()\n",
    "convs = []\n",
    "# list of a conv layers within alexnn\n",
    "for i,k in enumerate(model.modules()):\n",
    "    if isinstance(k, nn.Conv2d):\n",
    "        convs.append(k)"
   ]
  },
  {
   "cell_type": "code",
   "execution_count": null,
   "metadata": {},
   "outputs": [],
   "source": [
    "l1 = convs[0].weight"
   ]
  },
  {
   "cell_type": "code",
   "execution_count": null,
   "metadata": {},
   "outputs": [],
   "source": [
    "# Returns the covariance matrix of m\n",
    "def cov(m, rowvar=False):\n",
    "    if m.dim() > 2:\n",
    "        raise ValueError('m has more than 2 dimensions')\n",
    "    if m.dim() < 2:\n",
    "        m = m.view(1, -1)\n",
    "    if not rowvar and m.size(0) != 1:\n",
    "        m = m.t()\n",
    "    # m = m.type(torch.double)  # uncomment this line if desired\n",
    "    fact = 1.0 / (m.size(1) - 1)\n",
    "    m -= torch.mean(m, dim=1, keepdim=True)\n",
    "    mt = m.t()  # if complex: mt = m.t().conj()\n",
    "    return fact * m.matmul(mt).squeeze()"
   ]
  },
  {
   "cell_type": "code",
   "execution_count": null,
   "metadata": {},
   "outputs": [],
   "source": [
    "def _mahalanobis(X):\n",
    "    VI = torch.inverse(cov(X)) #covariance matrix\n",
    "    total_dist = 0\n",
    "    for i,v in enumerate(X):\n",
    "        dist = 0\n",
    "        for j,u in enumerate(X):\n",
    "            if i == j:\n",
    "                continue\n",
    "            x = (v-u).unsqueeze(0).t()\n",
    "            y = (v - u).unsqueeze(0)\n",
    "            \n",
    "            dist = (torch.mm(torch.mm(y,VI),x)) #sqrt of dist returns NaN (?)\n",
    "            \n",
    "            total_dist +=dist\n",
    "            print(dist)\n",
    "    return total_dist"
   ]
  },
  {
   "cell_type": "code",
   "execution_count": null,
   "metadata": {},
   "outputs": [],
   "source": [
    "\n",
    "for j in range(l1.shape[1]): # iterate over channels\n",
    "    X = torch.reshape(l1[0][j], [1,l1[0][j].shape[1]**2])  # gets first elem\n",
    "    for i,w in enumerate(l1): # iterates over filters\n",
    "        if i == 0:\n",
    "            continue\n",
    "        else:\n",
    "            y = torch.reshape(w[0], [1,w[j].shape[1]**2])\n",
    "            X = torch.cat((X,y))\n",
    "    dist = _mahalanobis(X)"
   ]
  },
  {
   "cell_type": "code",
   "execution_count": null,
   "metadata": {},
   "outputs": [],
   "source": [
    "#x = X[0] #vector1\n",
    "#y = X[2] #vector 2\n",
    "### mahalanobis params\n",
    "#VI = torch.inverse(cov(X)) #inverse of covariance matrix\n",
    "#p2 = (x - y).unsqueeze(0)\n",
    "#p1 = (x-y).unsqueeze(0).t()"
   ]
  },
  {
   "cell_type": "code",
   "execution_count": null,
   "metadata": {},
   "outputs": [],
   "source": [
    "#_mahalanobis(X)"
   ]
  },
  {
   "cell_type": "code",
   "execution_count": null,
   "metadata": {},
   "outputs": [],
   "source": [
    "X.shape"
   ]
  },
  {
   "cell_type": "code",
   "execution_count": null,
   "metadata": {},
   "outputs": [],
   "source": []
  }
 ],
 "metadata": {
  "kernelspec": {
   "display_name": "Python 3",
   "language": "python",
   "name": "python3"
  },
  "language_info": {
   "codemirror_mode": {
    "name": "ipython",
    "version": 3
   },
   "file_extension": ".py",
   "mimetype": "text/x-python",
   "name": "python",
   "nbconvert_exporter": "python",
   "pygments_lexer": "ipython3",
   "version": "3.6.5"
  }
 },
 "nbformat": 4,
 "nbformat_minor": 2
}
