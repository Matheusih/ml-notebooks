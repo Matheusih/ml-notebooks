{
 "cells": [
  {
   "cell_type": "code",
   "execution_count": 1,
   "metadata": {},
   "outputs": [
    {
     "name": "stdout",
     "output_type": "stream",
     "text": [
      "[-3.  2.  1.]\n"
     ]
    }
   ],
   "source": [
    "# %load perceptron.py\n",
    "import numpy as np\n",
    "import pandas as pd\n",
    "class Perceptron:\n",
    "\n",
    "    def __init__(self,input):\n",
    "        self.W = np.zeros(input.shape[1]+1) ## weight vector\n",
    "        ## +1 slot cause of bias in input\n",
    "        self.bias = 1\n",
    "        self.lr = 1 ##learning rate\n",
    "        self.epoch = 5\n",
    "\n",
    "    def predict(self,input):\n",
    "        x = np.insert(input,0,1) # x0 = 1, for bias\n",
    "        net = np.inner(self.W,x)\n",
    "        return 1.0 if net >= 0.0 else 0.0\n",
    "\n",
    "    def fit(self,input,d):\n",
    "        for i in range(self.epoch):\n",
    "            for j in range(d.shape[0]):\n",
    "                t = np.array(input.iloc[j])\n",
    "                x = np.insert(t,0,1) # x0 = 1, for bias\n",
    "                net = np.inner(self.W,x)\n",
    "                y = self.step_function(net)\n",
    "                self.W = self.W + self.lr * (d[j]-y)*x\n",
    "                \n",
    "    def step_function(self,value):\n",
    "        return 1.0 if value >= 0.0 else 0.0            \n",
    "                \n",
    "    def testPrediction(self, input, y_expected):\n",
    "        hits = 0\n",
    "        acc = 0\n",
    "        for i in range(input.shape[0]):\n",
    "            t = np.array(input.iloc[i])\n",
    "            x = np.insert(t,0,1) # x0 = 1, for bias\n",
    "            y = self.step_function( np.inner(self.W,x) )\n",
    "            if y == y_expected[i]:\n",
    "                hits += 1\n",
    "        acc = hits / input.shape[0]\n",
    "        print('Accuracy: {}'.format(acc))\n",
    "        \n",
    "if __name__ == '__main__':\n",
    "    X_input = pd.DataFrame([\n",
    "    [0,0],[0,1],[1,0],[1,1]\n",
    "    ])\n",
    "    exp_out = np.array([0,0,0,1])\n",
    "    perceptron = Perceptron(X_input)\n",
    "    perceptron.fit(X_input,exp_out)\n",
    "    print(perceptron.W)\n"
   ]
  },
  {
   "cell_type": "code",
   "execution_count": 2,
   "metadata": {},
   "outputs": [],
   "source": [
    "df_test = pd.read_csv('mnist_test.csv')\n",
    "df_train = pd.read_csv('mnist_train.csv')\n",
    "\n",
    "y_train,X_train = np.split(df_train,[1], axis=1)  ## Splits DataFrame into Labels // Training sets\n",
    "y_test,X_test = np.split(df_test,[1], axis=1)  ## Splits DataFrame into Labels // Training sets\n",
    "\n",
    "#d = np.array(X_train.iloc[2])\n",
    "#for i in range(1,10):\n",
    "#    j = i\n",
    "#    while y_train.iloc[j,0] != i:\n",
    "#        j += 1\n",
    "#    d = np.vstack((d,X_train.iloc[j]))"
   ]
  },
  {
   "cell_type": "code",
   "execution_count": 3,
   "metadata": {},
   "outputs": [],
   "source": [
    "##      onde for == 1, troca por 1, se nao 0   ;;; treina o perceptron a ver somente o numero 1\n",
    "Y_train = np.where(y_train['5'] == 1, 1, 0)  ##normalizes input so perceptron sees it as 1/0\n",
    "Y_test = np.where(y_test['7'] == 1, 1, 0)"
   ]
  },
  {
   "cell_type": "code",
   "execution_count": 4,
   "metadata": {},
   "outputs": [],
   "source": [
    "#myPercep = Perceptron(X_train)\n",
    "#myPercep.fit(X_train,Y_train)"
   ]
  },
  {
   "cell_type": "code",
   "execution_count": 5,
   "metadata": {},
   "outputs": [],
   "source": [
    "#myPercep.testPrediction(X_test,Y_test)"
   ]
  },
  {
   "cell_type": "code",
   "execution_count": 6,
   "metadata": {},
   "outputs": [],
   "source": [
    "perceptrons = []\n",
    "tmp = []\n",
    "tmp2 = []\n",
    "for i in range(10):\n",
    "    perceptrons.append(Perceptron(X_train))  ##create 10 perceptrons\n",
    "    tmp.append( np.where(y_train['5'] == i, 1 , 0) )\n",
    "    tmp2.append( np.where(y_test['7'] == i, 1 , 0) )\n",
    "y_train_array = np.array(tmp)\n",
    "y_test_array = np.array(tmp2)"
   ]
  },
  {
   "cell_type": "code",
   "execution_count": 7,
   "metadata": {},
   "outputs": [
    {
     "name": "stdout",
     "output_type": "stream",
     "text": [
      "Perceptron 0 obteve:\n",
      "Accuracy: 0.9896989698969897\n",
      "Perceptron 1 obteve:\n",
      "Accuracy: 0.991999199919992\n",
      "Perceptron 2 obteve:\n",
      "Accuracy: 0.9582958295829583\n",
      "Perceptron 3 obteve:\n",
      "Accuracy: 0.9517951795179518\n",
      "Perceptron 4 obteve:\n",
      "Accuracy: 0.9560956095609561\n",
      "Perceptron 5 obteve:\n",
      "Accuracy: 0.9388938893889389\n",
      "Perceptron 6 obteve:\n",
      "Accuracy: 0.9725972597259726\n",
      "Perceptron 7 obteve:\n",
      "Accuracy: 0.9748974897489749\n",
      "Perceptron 8 obteve:\n",
      "Accuracy: 0.9083908390839084\n",
      "Perceptron 9 obteve:\n",
      "Accuracy: 0.9510951095109511\n"
     ]
    }
   ],
   "source": [
    "for i in range(10):\n",
    "    perceptrons[i].fit(X_train,y_train_array[i])\n",
    "    print('Perceptron {} obteve:'.format(i))\n",
    "    perceptrons[i].testPrediction(X_test,y_test_array[i])"
   ]
  },
  {
   "cell_type": "code",
   "execution_count": 85,
   "metadata": {},
   "outputs": [],
   "source": [
    "## Tests all 10 perceptrons with test data\n",
    "predictions = []\n",
    "for i in range(X_test.shape[0]):  #for each input \n",
    "    test_ar = np.array(X_test.iloc[i])  #cast to np.array\n",
    "    p = [] \n",
    "    for j in range(10):\n",
    "        p.append( perceptrons[j].predict(test_ar) )  #appends perceptrons predictions to array\n",
    "    if sum(p) > 1.0 or sum(p) <= 0: predictions.append(-1)  #if none predicted or more than one, then invalid result\n",
    "    else:\n",
    "        for k in range(10):\n",
    "            if p[k] == 1.0:\n",
    "                predictions.append(k)  #if perceptron zero activated, then its a zero..."
   ]
  },
  {
   "cell_type": "code",
   "execution_count": 101,
   "metadata": {},
   "outputs": [],
   "source": [
    "df_test = pd.DataFrame(predictions, columns=['q'])  ## creates dataFrame with results\n",
    "\n",
    "res = np.where((df_test['q'] == y_test['7']), 1, 0)  ##compares expected results dataFrame with test-results dataFrame"
   ]
  },
  {
   "cell_type": "code",
   "execution_count": 111,
   "metadata": {},
   "outputs": [
    {
     "data": {
      "text/plain": [
       "0.6826682668266827"
      ]
     },
     "execution_count": 111,
     "metadata": {},
     "output_type": "execute_result"
    }
   ],
   "source": [
    "hits = np.count_nonzero(res == 1)\n",
    "f_accuracy = hits / res.size\n",
    "f_accuracy"
   ]
  },
  {
   "cell_type": "code",
   "execution_count": null,
   "metadata": {},
   "outputs": [],
   "source": []
  }
 ],
 "metadata": {
  "kernelspec": {
   "display_name": "Python 3",
   "language": "python",
   "name": "python3"
  },
  "language_info": {
   "codemirror_mode": {
    "name": "ipython",
    "version": 3
   },
   "file_extension": ".py",
   "mimetype": "text/x-python",
   "name": "python",
   "nbconvert_exporter": "python",
   "pygments_lexer": "ipython3",
   "version": "3.6.5"
  }
 },
 "nbformat": 4,
 "nbformat_minor": 2
}
