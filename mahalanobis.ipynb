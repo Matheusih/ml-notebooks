{
 "cells": [
  {
   "cell_type": "code",
   "execution_count": null,
   "metadata": {},
   "outputs": [],
   "source": [
    "import os\n",
    "import time\n",
    "import torch\n",
    "import torch.optim as optim\n",
    "import torch.nn as nn\n",
    "import torchvision\n",
    "import torchvision.datasets as dset\n",
    "import torchvision.transforms as transforms\n",
    "from torchvision.models import alexnet"
   ]
  },
  {
   "cell_type": "code",
   "execution_count": null,
   "metadata": {},
   "outputs": [],
   "source": [
    "model = alexnet()\n",
    "convs = []\n",
    "for i,k in enumerate(model.modules()):\n",
    "    if isinstance(k, nn.Conv2d):\n",
    "        convs.append(k)"
   ]
  },
  {
   "cell_type": "code",
   "execution_count": null,
   "metadata": {},
   "outputs": [],
   "source": [
    "l1 = convs[0].weight"
   ]
  },
  {
   "cell_type": "code",
   "execution_count": null,
   "metadata": {},
   "outputs": [],
   "source": [
    "for j in range(l1.shape[1]): # itera sobre cada canal\n",
    "    X = None\n",
    "    y = None\n",
    "    for i,w in enumerate(l1): #itera sobre cada filtro\n",
    "        if X == None:\n",
    "            X = torch.reshape(w[j], [1,w[j].shape[1]**2])  # <----- Problema: repetindo 1o elemento\n",
    "        else:\n",
    "            y = torch.reshape(w[0], [1,w[j].shape[1]**2])\n",
    "            X = torch.cat((X,y))\n",
    "    dist = _mahalanobis(X)"
   ]
  },
  {
   "cell_type": "code",
   "execution_count": null,
   "metadata": {},
   "outputs": [],
   "source": [
    "x = X[0] #vector1\n",
    "y = X[2] #vector 2\n",
    "### mahalanobis params\n",
    "VI = torch.inverse(cov(X)) #inverse of covariance matrix\n",
    "p2 = (x - y).unsqueeze(0)\n",
    "p1 = (x-y).unsqueeze(0).t()"
   ]
  },
  {
   "cell_type": "code",
   "execution_count": null,
   "metadata": {},
   "outputs": [],
   "source": [
    "p1.shape"
   ]
  },
  {
   "cell_type": "code",
   "execution_count": null,
   "metadata": {},
   "outputs": [],
   "source": [
    "p2.shape"
   ]
  },
  {
   "cell_type": "code",
   "execution_count": null,
   "metadata": {},
   "outputs": [],
   "source": [
    "torch.sqrt(torch.mm(p2,torch.mm(VI,p1))) # this?"
   ]
  },
  {
   "cell_type": "code",
   "execution_count": null,
   "metadata": {},
   "outputs": [],
   "source": [
    "torch.sqrt(torch.mm(torch.mm(p2,VI),p1)) # or this?"
   ]
  },
  {
   "cell_type": "code",
   "execution_count": null,
   "metadata": {},
   "outputs": [],
   "source": [
    "_mahalanobis(X)"
   ]
  },
  {
   "cell_type": "code",
   "execution_count": null,
   "metadata": {},
   "outputs": [],
   "source": [
    "def _mahalanobis(X):\n",
    "    VI = torch.inverse(cov(X)) #covariance matrix\n",
    "    total_dist = 0\n",
    "    for i,v in enumerate(X):\n",
    "        dist = 0\n",
    "        for j,u in enumerate(X):\n",
    "            if i == j:\n",
    "                continue\n",
    "            x = (v-u).unsqueeze(0).t()\n",
    "            y = (v - u).unsqueeze(0)\n",
    "            \n",
    "            dist = torch.sqrt(torch.mm(torch.mm(y,VI),x))\n",
    "            \n",
    "            total_dist +=dist\n",
    "            print(dist)\n",
    "    return total_dist"
   ]
  },
  {
   "cell_type": "code",
   "execution_count": null,
   "metadata": {},
   "outputs": [],
   "source": []
  },
  {
   "cell_type": "code",
   "execution_count": null,
   "metadata": {},
   "outputs": [],
   "source": [
    "range(l1.shape[0])"
   ]
  },
  {
   "cell_type": "code",
   "execution_count": null,
   "metadata": {},
   "outputs": [],
   "source": [
    "S = torch.inverse(cov(w1))\n",
    "mu = torch.mean(w1)"
   ]
  },
  {
   "cell_type": "code",
   "execution_count": null,
   "metadata": {},
   "outputs": [],
   "source": [
    "import torch\n",
    "\n",
    "def cov(m, rowvar=False):\n",
    "    '''Estimate a covariance matrix given data.\n",
    "\n",
    "    Covariance indicates the level to which two variables vary together.\n",
    "    If we examine N-dimensional samples, `X = [x_1, x_2, ... x_N]^T`,\n",
    "    then the covariance matrix element `C_{ij}` is the covariance of\n",
    "    `x_i` and `x_j`. The element `C_{ii}` is the variance of `x_i`.\n",
    "\n",
    "    Args:\n",
    "        m: A 1-D or 2-D array containing multiple variables and observations.\n",
    "            Each row of `m` represents a variable, and each column a single\n",
    "            observation of all those variables.\n",
    "        rowvar: If `rowvar` is True, then each row represents a\n",
    "            variable, with observations in the columns. Otherwise, the\n",
    "            relationship is transposed: each column represents a variable,\n",
    "            while the rows contain observations.\n",
    "\n",
    "    Returns:\n",
    "        The covariance matrix of the variables.\n",
    "    '''\n",
    "    if m.dim() > 2:\n",
    "        raise ValueError('m has more than 2 dimensions')\n",
    "    if m.dim() < 2:\n",
    "        m = m.view(1, -1)\n",
    "    if not rowvar and m.size(0) != 1:\n",
    "        m = m.t()\n",
    "    # m = m.type(torch.double)  # uncomment this line if desired\n",
    "    fact = 1.0 / (m.size(1) - 1)\n",
    "    m -= torch.mean(m, dim=1, keepdim=True)\n",
    "    mt = m.t()  # if complex: mt = m.t().conj()\n",
    "    return fact * m.matmul(mt).squeeze()"
   ]
  },
  {
   "cell_type": "code",
   "execution_count": null,
   "metadata": {},
   "outputs": [],
   "source": []
  }
 ],
 "metadata": {
  "kernelspec": {
   "display_name": "Python 3",
   "language": "python",
   "name": "python3"
  },
  "language_info": {
   "codemirror_mode": {
    "name": "ipython",
    "version": 3
   },
   "file_extension": ".py",
   "mimetype": "text/x-python",
   "name": "python",
   "nbconvert_exporter": "python",
   "pygments_lexer": "ipython3",
   "version": "3.6.5"
  }
 },
 "nbformat": 4,
 "nbformat_minor": 2
}
